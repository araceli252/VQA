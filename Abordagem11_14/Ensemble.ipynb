{
 "cells": [
  {
   "cell_type": "code",
   "execution_count": null,
   "id": "eaa8cb85",
   "metadata": {},
   "outputs": [],
   "source": [
    "import pandas as pd\n",
    "import json"
   ]
  },
  {
   "cell_type": "code",
   "execution_count": null,
   "id": "c08e3680",
   "metadata": {},
   "outputs": [],
   "source": [
    "df_bert_clip = pd.read_csv(\"results_bert_clip.csv\")\n",
    "df_bert_clip.rename(columns = {\"answer\": \"answer_bert_clip\", \"conf\": \"conf_bert_clip\"}, inplace = True)\n",
    "df_bert_clip.head()"
   ]
  },
  {
   "cell_type": "code",
   "execution_count": null,
   "id": "e16b0260",
   "metadata": {},
   "outputs": [],
   "source": [
    "df_bert_clip.conf_bert_clip.hist()"
   ]
  },
  {
   "cell_type": "code",
   "execution_count": null,
   "id": "ab4c1f4e",
   "metadata": {},
   "outputs": [],
   "source": [
    "df_clip = pd.read_csv(\"results_clip_deuser.csv\")\n",
    "df_clip.rename(columns = {\"answer\": \"answer_clip\", \"conf\": \"conf_clip\"}, inplace = True)\n",
    "df_clip.head()"
   ]
  },
  {
   "cell_type": "code",
   "execution_count": null,
   "id": "a33cfd0a",
   "metadata": {},
   "outputs": [],
   "source": [
    "df_clip.conf_clip.hist()"
   ]
  },
  {
   "cell_type": "code",
   "execution_count": null,
   "id": "baa70cb7",
   "metadata": {},
   "outputs": [],
   "source": [
    "df_blip2 = pd.read_csv(\"results_blip2.csv\")\n",
    "df_blip2.rename(columns = {\"answer\": \"answer_blip2\", \"conf\": \"conf_blip2\"}, inplace = True)\n",
    "df_blip2.head()"
   ]
  },
  {
   "cell_type": "code",
   "execution_count": null,
   "id": "1e8884ef",
   "metadata": {},
   "outputs": [],
   "source": [
    "df_blip2.conf_blip2.hist()"
   ]
  },
  {
   "cell_type": "code",
   "execution_count": null,
   "id": "49b15035",
   "metadata": {},
   "outputs": [],
   "source": [
    "df_models = df_bert_clip.merge(df_clip, how = \"inner\", on = \"image\")\n",
    "df_models = df_models.merge(df_blip2, how = \"inner\", on = \"image\")\n",
    "df_models"
   ]
  },
  {
   "cell_type": "markdown",
   "id": "e5ea9444",
   "metadata": {},
   "source": [
    "---"
   ]
  },
  {
   "cell_type": "code",
   "execution_count": null,
   "id": "2e40c209",
   "metadata": {},
   "outputs": [],
   "source": [
    "# Ensemble 1: Bert_Clip com clip\n",
    "\n",
    "def ensemble_bert_clip_with_clip(row):\n",
    "    \n",
    "    if row.answer_bert_clip == row.answer_clip:\n",
    "        return row.answer_bert_clip\n",
    "    \n",
    "    else:\n",
    "        \n",
    "        if row.conf_bert_clip > row.conf_clip:\n",
    "            return row.answer_bert_clip\n",
    "        \n",
    "        else:\n",
    "            return row.answer_clip"
   ]
  },
  {
   "cell_type": "code",
   "execution_count": null,
   "id": "174ba4ce",
   "metadata": {},
   "outputs": [],
   "source": [
    "df_models[\"emsemble1\"] = df_models.apply(ensemble_bert_clip_with_clip, axis = 1)\n",
    "df_models.head()"
   ]
  },
  {
   "cell_type": "code",
   "execution_count": null,
   "id": "cca0b75a",
   "metadata": {},
   "outputs": [],
   "source": [
    "model_answers = []\n",
    "for i in range(len(df_models)):\n",
    "    image_url = df_models['image'][i]\n",
    "    answer = df_models['emsemble1'][i]\n",
    "    answer_result = {'image': image_url, 'answer': answer}\n",
    "    model_answers.append(answer_result)\n",
    "\n",
    "with open('answers_results_e1.json', 'w') as file:\n",
    "    json.dump(model_answers, file)"
   ]
  },
  {
   "cell_type": "markdown",
   "id": "6635b952",
   "metadata": {},
   "source": [
    "---"
   ]
  },
  {
   "cell_type": "code",
   "execution_count": null,
   "id": "ebce486e",
   "metadata": {},
   "outputs": [],
   "source": [
    "# Ensemble 2: Bert_Clip com blip2\n",
    "\n",
    "def ensemble_bert_clip_with_blip2(row):\n",
    "    \n",
    "    if row.answer_bert_clip == row.answer_blip2:\n",
    "        return row.answer_bert_clip\n",
    "    \n",
    "    else:\n",
    "        \n",
    "        if row.conf_bert_clip > row.conf_blip2:\n",
    "            return row.answer_bert_clip\n",
    "        \n",
    "        else:\n",
    "            return row.answer_blip2"
   ]
  },
  {
   "cell_type": "code",
   "execution_count": null,
   "id": "9079c44c",
   "metadata": {},
   "outputs": [],
   "source": [
    "df_models[\"emsemble2\"] = df_models.apply(ensemble_bert_clip_with_blip2, axis = 1)\n",
    "df_models.head()"
   ]
  },
  {
   "cell_type": "code",
   "execution_count": null,
   "id": "a49da5b7",
   "metadata": {},
   "outputs": [],
   "source": [
    "model_answers = []\n",
    "for i in range(len(df_models)):\n",
    "    image_url = df_models['image'][i]\n",
    "    answer = df_models['emsemble2'][i]\n",
    "    answer_result = {'image': image_url, 'answer': answer}\n",
    "    model_answers.append(answer_result)\n",
    "\n",
    "with open('answers_results_e2.json', 'w') as file:\n",
    "    json.dump(model_answers, file)"
   ]
  },
  {
   "cell_type": "markdown",
   "id": "58317479",
   "metadata": {},
   "source": [
    "---"
   ]
  },
  {
   "cell_type": "code",
   "execution_count": null,
   "id": "d9bcf2ed",
   "metadata": {},
   "outputs": [],
   "source": [
    "# Ensemble 3: Clip com blip2\n",
    "\n",
    "def ensemble_clip_with_blip2(row):\n",
    "    \n",
    "    if row.answer_clip == row.answer_blip2:\n",
    "        return row.answer_clip\n",
    "    \n",
    "    else:\n",
    "        \n",
    "        if row.conf_clip > row.conf_blip2:\n",
    "            return row.answer_clip\n",
    "        \n",
    "        else:\n",
    "            return row.answer_blip2"
   ]
  },
  {
   "cell_type": "code",
   "execution_count": null,
   "id": "84576e3b",
   "metadata": {},
   "outputs": [],
   "source": [
    "df_models[\"emsemble3\"] = df_models.apply(ensemble_clip_with_blip2, axis = 1)\n",
    "df_models.head()"
   ]
  },
  {
   "cell_type": "code",
   "execution_count": null,
   "id": "837c81e1",
   "metadata": {},
   "outputs": [],
   "source": [
    "model_answers = []\n",
    "for i in range(len(df_models)):\n",
    "    image_url = df_models['image'][i]\n",
    "    answer = df_models['emsemble3'][i]\n",
    "    answer_result = {'image': image_url, 'answer': answer}\n",
    "    model_answers.append(answer_result)\n",
    "\n",
    "with open('answers_results_e3.json', 'w') as file:\n",
    "    json.dump(model_answers, file)"
   ]
  },
  {
   "cell_type": "markdown",
   "id": "c6115454",
   "metadata": {},
   "source": [
    "---"
   ]
  },
  {
   "cell_type": "code",
   "execution_count": null,
   "id": "a52e3311",
   "metadata": {},
   "outputs": [],
   "source": [
    "# Ensemble 4: all\n",
    "\n",
    "def ensemble_all(row):\n",
    "    \n",
    "    cols = [i for i in row.index.tolist() if \"answer\" in i]\n",
    "    df_count_answer = pd.DataFrame({\"answer\": row[cols].values}).answer.value_counts().reset_index()\n",
    "    \n",
    "    # Quando o shape é 1 significa que as 3 predições foram iguais\n",
    "    if df_count_answer.shape[0] == 1:\n",
    "        return(row[cols[0]])\n",
    "    \n",
    "    # Quando o shape é 2 significa que 2 modelos concordaram e 1 não, no caso, o primeiro é o que teve \n",
    "    # a resposta mais frequente\n",
    "    if df_count_answer.shape[0] == 2:\n",
    "        return(df_count_answer[\"index\"][0])\n",
    "    \n",
    "    # Quando o shape é 3 significa que todos os modelos descordaram na predição\n",
    "    if df_count_answer.shape[0] == 3:\n",
    "        \n",
    "        if (row.conf_clip > row.conf_blip2)&(row.conf_clip > row.conf_bert_clip):\n",
    "            return row.answer_clip\n",
    "        \n",
    "        elif (row.conf_blip2 > row.conf_clip)&(row.conf_blip2 > row.conf_bert_clip):\n",
    "            return row.answer_blip2\n",
    "        \n",
    "        else:\n",
    "            return row.answer_bert_clip"
   ]
  },
  {
   "cell_type": "code",
   "execution_count": null,
   "id": "4beeb4df",
   "metadata": {},
   "outputs": [],
   "source": [
    "df_models[\"emsemble4\"] = df_models.apply(ensemble_all, axis = 1)\n",
    "df_models.head()"
   ]
  },
  {
   "cell_type": "code",
   "execution_count": null,
   "id": "f34380b7",
   "metadata": {},
   "outputs": [],
   "source": [
    "df_models[(df_models.answer_bert_clip != df_models.answer_clip)&(df_models.answer_clip != df_models.answer_blip2)]"
   ]
  },
  {
   "cell_type": "code",
   "execution_count": null,
   "id": "0345d8f9",
   "metadata": {},
   "outputs": [],
   "source": [
    "model_answers = []\n",
    "for i in range(len(df_models)):\n",
    "    image_url = df_models['image'][i]\n",
    "    answer = df_models['emsemble4'][i]\n",
    "    answer_result = {'image': image_url, 'answer': answer}\n",
    "    model_answers.append(answer_result)\n",
    "\n",
    "with open('answers_results_e4.json', 'w') as file:\n",
    "    json.dump(model_answers, file)"
   ]
  }
 ],
 "metadata": {
  "kernelspec": {
   "display_name": "Python 3 (ipykernel)",
   "language": "python",
   "name": "python3"
  },
  "language_info": {
   "codemirror_mode": {
    "name": "ipython",
    "version": 3
   },
   "file_extension": ".py",
   "mimetype": "text/x-python",
   "name": "python",
   "nbconvert_exporter": "python",
   "pygments_lexer": "ipython3",
   "version": "3.10.8"
  }
 },
 "nbformat": 4,
 "nbformat_minor": 5
}
